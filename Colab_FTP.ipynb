{
  "cells": [
    {
      "cell_type": "markdown",
      "metadata": {
        "id": "Uf90U73y9YOj"
      },
      "source": [
        "### Mount Google Drive\n",
        "To stream files we need to mount Google Drive."
      ]
    },
    {
      "cell_type": "code",
      "execution_count": null,
      "metadata": {
        "colab": {
          "base_uri": "https://localhost:8080/"
        },
        "id": "oWM9l2fvtuvO",
        "outputId": "8d3a0ae5-567f-4811-f3a2-1a24d246e49a"
      },
      "outputs": [
        {
          "output_type": "stream",
          "name": "stdout",
          "text": [
            "Mounted at /content/drive/\n"
          ]
        }
      ],
      "source": [
        "from google.colab import drive\n",
        "\n",
        "drive.mount(\"/content/drive/\")"
      ]
    },
    {
      "cell_type": "markdown",
      "metadata": {
        "id": "F4EH58RPq4D8"
      },
      "source": [
        "### Paste Direct Download Link Below"
      ]
    },
    {
      "cell_type": "code",
      "execution_count": null,
      "metadata": {
        "colab": {
          "base_uri": "https://localhost:8080/"
        },
        "collapsed": true,
        "id": "DBNoYYoSuDBT",
        "outputId": "782b7d5c-b260-4c4f-cf67-af6786c160bc"
      },
      "outputs": [
        {
          "output_type": "stream",
          "name": "stdout",
          "text": [
            "--2025-09-08 05:57:18--  https://rd6.seedr.cc/get_zip_ngen_free/21209284/Mukundan.Unni.Associates.2022.720p.DSNP.WEBRip.Multi.AAC.H.264-themoviesboss.zip?st=7MoXEz49X9hAk_goQVLKSA&e=1757397404\n",
            "Resolving rd6.seedr.cc (rd6.seedr.cc)... 43.250.53.94\n",
            "Connecting to rd6.seedr.cc (rd6.seedr.cc)|43.250.53.94|:443... connected.\n",
            "HTTP request sent, awaiting response... 200 OK\n",
            "Length: 884205386 (843M) [application/zip]\n",
            "Saving to: ‘/content/drive/My Drive/Downloads/Mukundan.Unni.Associates.2022.720p.DSNP.WEBRip.Multi.AAC.H.264-themoviesboss.zip?st=7MoXEz49X9hAk_goQVLKSA&e=1757397404’\n",
            "\n",
            "Mukundan.Unni.Assoc 100%[===================>] 843.24M  25.1MB/s    in 39s     \n",
            "\n",
            "2025-09-08 05:57:57 (21.6 MB/s) - ‘/content/drive/My Drive/Downloads/Mukundan.Unni.Associates.2022.720p.DSNP.WEBRip.Multi.AAC.H.264-themoviesboss.zip?st=7MoXEz49X9hAk_goQVLKSA&e=1757397404’ saved [884205386/884205386]\n",
            "\n"
          ]
        }
      ],
      "source": [
        "!wget --no-check-certificate -P \"/content/drive/My Drive/Downloads\" \"ENTER_DIRECT_DOWNLOAD_LINK_HERE\""
      ]
    }
  ],
  "metadata": {
    "colab": {
      "provenance": []
    },
    "kernelspec": {
      "display_name": "Python 3 (ipykernel)",
      "language": "python",
      "name": "python3"
    },
    "language_info": {
      "codemirror_mode": {
        "name": "ipython",
        "version": 3
      },
      "file_extension": ".py",
      "mimetype": "text/x-python",
      "name": "python",
      "nbconvert_exporter": "python",
      "pygments_lexer": "ipython3",
      "version": "3.9.7"
    }
  },
  "nbformat": 4,
  "nbformat_minor": 0
}